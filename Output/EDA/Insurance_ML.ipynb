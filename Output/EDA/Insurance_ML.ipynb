{
 "cells": [
  {
   "cell_type": "code",
   "execution_count": 1,
   "id": "dbb54f46",
   "metadata": {},
   "outputs": [],
   "source": [
    "import pandas as pd\n",
    "from pathlib import Path\n",
    "import seaborn as sns"
   ]
  },
  {
   "cell_type": "code",
   "execution_count": 2,
   "id": "c9b3db5b",
   "metadata": {
    "scrolled": false
   },
   "outputs": [
    {
     "data": {
      "text/html": [
       "<div>\n",
       "<style scoped>\n",
       "    .dataframe tbody tr th:only-of-type {\n",
       "        vertical-align: middle;\n",
       "    }\n",
       "\n",
       "    .dataframe tbody tr th {\n",
       "        vertical-align: top;\n",
       "    }\n",
       "\n",
       "    .dataframe thead th {\n",
       "        text-align: right;\n",
       "    }\n",
       "</style>\n",
       "<table border=\"1\" class=\"dataframe\">\n",
       "  <thead>\n",
       "    <tr style=\"text-align: right;\">\n",
       "      <th></th>\n",
       "      <th>id</th>\n",
       "      <th>age</th>\n",
       "      <th>gender</th>\n",
       "      <th>driving_license</th>\n",
       "      <th>region_code</th>\n",
       "      <th>annual_premium</th>\n",
       "      <th>previously_insured</th>\n",
       "      <th>vehicle_age</th>\n",
       "      <th>vehicle_damage</th>\n",
       "      <th>vintage</th>\n",
       "      <th>response</th>\n",
       "      <th>policy_sales_channel</th>\n",
       "    </tr>\n",
       "  </thead>\n",
       "  <tbody>\n",
       "    <tr>\n",
       "      <th>0</th>\n",
       "      <td>1</td>\n",
       "      <td>44</td>\n",
       "      <td>Male</td>\n",
       "      <td>1</td>\n",
       "      <td>28</td>\n",
       "      <td>40454</td>\n",
       "      <td>0</td>\n",
       "      <td>&gt; 2 Years</td>\n",
       "      <td>Yes</td>\n",
       "      <td>217</td>\n",
       "      <td>1</td>\n",
       "      <td>26</td>\n",
       "    </tr>\n",
       "    <tr>\n",
       "      <th>1</th>\n",
       "      <td>2</td>\n",
       "      <td>76</td>\n",
       "      <td>Male</td>\n",
       "      <td>1</td>\n",
       "      <td>3</td>\n",
       "      <td>33536</td>\n",
       "      <td>0</td>\n",
       "      <td>1-2 Year</td>\n",
       "      <td>No</td>\n",
       "      <td>183</td>\n",
       "      <td>0</td>\n",
       "      <td>26</td>\n",
       "    </tr>\n",
       "    <tr>\n",
       "      <th>2</th>\n",
       "      <td>3</td>\n",
       "      <td>47</td>\n",
       "      <td>Male</td>\n",
       "      <td>1</td>\n",
       "      <td>28</td>\n",
       "      <td>38294</td>\n",
       "      <td>0</td>\n",
       "      <td>&gt; 2 Years</td>\n",
       "      <td>Yes</td>\n",
       "      <td>27</td>\n",
       "      <td>1</td>\n",
       "      <td>26</td>\n",
       "    </tr>\n",
       "    <tr>\n",
       "      <th>3</th>\n",
       "      <td>4</td>\n",
       "      <td>21</td>\n",
       "      <td>Male</td>\n",
       "      <td>1</td>\n",
       "      <td>11</td>\n",
       "      <td>28619</td>\n",
       "      <td>1</td>\n",
       "      <td>&lt; 1 Year</td>\n",
       "      <td>No</td>\n",
       "      <td>203</td>\n",
       "      <td>0</td>\n",
       "      <td>152</td>\n",
       "    </tr>\n",
       "    <tr>\n",
       "      <th>4</th>\n",
       "      <td>5</td>\n",
       "      <td>29</td>\n",
       "      <td>Female</td>\n",
       "      <td>1</td>\n",
       "      <td>41</td>\n",
       "      <td>27496</td>\n",
       "      <td>1</td>\n",
       "      <td>&lt; 1 Year</td>\n",
       "      <td>No</td>\n",
       "      <td>39</td>\n",
       "      <td>0</td>\n",
       "      <td>152</td>\n",
       "    </tr>\n",
       "  </tbody>\n",
       "</table>\n",
       "</div>"
      ],
      "text/plain": [
       "   id  age  gender  driving_license  region_code  annual_premium  \\\n",
       "0   1   44    Male                1           28           40454   \n",
       "1   2   76    Male                1            3           33536   \n",
       "2   3   47    Male                1           28           38294   \n",
       "3   4   21    Male                1           11           28619   \n",
       "4   5   29  Female                1           41           27496   \n",
       "\n",
       "   previously_insured vehicle_age vehicle_damage  vintage  response  \\\n",
       "0                   0   > 2 Years            Yes      217         1   \n",
       "1                   0    1-2 Year             No      183         0   \n",
       "2                   0   > 2 Years            Yes       27         1   \n",
       "3                   1    < 1 Year             No      203         0   \n",
       "4                   1    < 1 Year             No       39         0   \n",
       "\n",
       "   policy_sales_channel  \n",
       "0                    26  \n",
       "1                    26  \n",
       "2                    26  \n",
       "3                   152  \n",
       "4                   152  "
      ]
     },
     "execution_count": 2,
     "metadata": {},
     "output_type": "execute_result"
    }
   ],
   "source": [
    "# Load the data\n",
    "file_path = Path('INSURANCE_MODELING.csv')\n",
    "df = pd.read_csv(file_path)\n",
    "\n",
    "# View the data\n",
    "df.head()"
   ]
  },
  {
   "cell_type": "code",
   "execution_count": 3,
   "id": "ba069ece",
   "metadata": {
    "scrolled": true
   },
   "outputs": [
    {
     "name": "stdout",
     "output_type": "stream",
     "text": [
      "<class 'pandas.core.frame.DataFrame'>\n",
      "RangeIndex: 381109 entries, 0 to 381108\n",
      "Data columns (total 12 columns):\n",
      " #   Column                Non-Null Count   Dtype \n",
      "---  ------                --------------   ----- \n",
      " 0   id                    381109 non-null  int64 \n",
      " 1   age                   381109 non-null  int64 \n",
      " 2   gender                381109 non-null  object\n",
      " 3   driving_license       381109 non-null  int64 \n",
      " 4   region_code           381109 non-null  int64 \n",
      " 5   annual_premium        381109 non-null  int64 \n",
      " 6   previously_insured    381109 non-null  int64 \n",
      " 7   vehicle_age           381109 non-null  object\n",
      " 8   vehicle_damage        381109 non-null  object\n",
      " 9   vintage               381109 non-null  int64 \n",
      " 10  response              381109 non-null  int64 \n",
      " 11  policy_sales_channel  381109 non-null  int64 \n",
      "dtypes: int64(9), object(3)\n",
      "memory usage: 34.9+ MB\n"
     ]
    }
   ],
   "source": [
    "#Basic information\n",
    "\n",
    "df.info()"
   ]
  },
  {
   "cell_type": "code",
   "execution_count": 4,
   "id": "59464b3b",
   "metadata": {
    "scrolled": true
   },
   "outputs": [
    {
     "data": {
      "text/html": [
       "<div>\n",
       "<style scoped>\n",
       "    .dataframe tbody tr th:only-of-type {\n",
       "        vertical-align: middle;\n",
       "    }\n",
       "\n",
       "    .dataframe tbody tr th {\n",
       "        vertical-align: top;\n",
       "    }\n",
       "\n",
       "    .dataframe thead th {\n",
       "        text-align: right;\n",
       "    }\n",
       "</style>\n",
       "<table border=\"1\" class=\"dataframe\">\n",
       "  <thead>\n",
       "    <tr style=\"text-align: right;\">\n",
       "      <th></th>\n",
       "      <th>id</th>\n",
       "      <th>age</th>\n",
       "      <th>driving_license</th>\n",
       "      <th>region_code</th>\n",
       "      <th>annual_premium</th>\n",
       "      <th>previously_insured</th>\n",
       "      <th>vintage</th>\n",
       "      <th>response</th>\n",
       "      <th>policy_sales_channel</th>\n",
       "    </tr>\n",
       "  </thead>\n",
       "  <tbody>\n",
       "    <tr>\n",
       "      <th>count</th>\n",
       "      <td>381109.000000</td>\n",
       "      <td>381109.000000</td>\n",
       "      <td>381109.000000</td>\n",
       "      <td>381109.000000</td>\n",
       "      <td>381109.000000</td>\n",
       "      <td>381109.000000</td>\n",
       "      <td>381109.000000</td>\n",
       "      <td>381109.000000</td>\n",
       "      <td>381109.000000</td>\n",
       "    </tr>\n",
       "    <tr>\n",
       "      <th>mean</th>\n",
       "      <td>190555.000000</td>\n",
       "      <td>38.822584</td>\n",
       "      <td>0.997869</td>\n",
       "      <td>26.388807</td>\n",
       "      <td>30564.389581</td>\n",
       "      <td>0.458210</td>\n",
       "      <td>154.347397</td>\n",
       "      <td>0.122563</td>\n",
       "      <td>112.034295</td>\n",
       "    </tr>\n",
       "    <tr>\n",
       "      <th>std</th>\n",
       "      <td>110016.836208</td>\n",
       "      <td>15.511611</td>\n",
       "      <td>0.046110</td>\n",
       "      <td>13.229888</td>\n",
       "      <td>17213.155057</td>\n",
       "      <td>0.498251</td>\n",
       "      <td>83.671304</td>\n",
       "      <td>0.327936</td>\n",
       "      <td>54.203995</td>\n",
       "    </tr>\n",
       "    <tr>\n",
       "      <th>min</th>\n",
       "      <td>1.000000</td>\n",
       "      <td>20.000000</td>\n",
       "      <td>0.000000</td>\n",
       "      <td>0.000000</td>\n",
       "      <td>2630.000000</td>\n",
       "      <td>0.000000</td>\n",
       "      <td>10.000000</td>\n",
       "      <td>0.000000</td>\n",
       "      <td>1.000000</td>\n",
       "    </tr>\n",
       "    <tr>\n",
       "      <th>25%</th>\n",
       "      <td>95278.000000</td>\n",
       "      <td>25.000000</td>\n",
       "      <td>1.000000</td>\n",
       "      <td>15.000000</td>\n",
       "      <td>24405.000000</td>\n",
       "      <td>0.000000</td>\n",
       "      <td>82.000000</td>\n",
       "      <td>0.000000</td>\n",
       "      <td>29.000000</td>\n",
       "    </tr>\n",
       "    <tr>\n",
       "      <th>50%</th>\n",
       "      <td>190555.000000</td>\n",
       "      <td>36.000000</td>\n",
       "      <td>1.000000</td>\n",
       "      <td>28.000000</td>\n",
       "      <td>31669.000000</td>\n",
       "      <td>0.000000</td>\n",
       "      <td>154.000000</td>\n",
       "      <td>0.000000</td>\n",
       "      <td>133.000000</td>\n",
       "    </tr>\n",
       "    <tr>\n",
       "      <th>75%</th>\n",
       "      <td>285832.000000</td>\n",
       "      <td>49.000000</td>\n",
       "      <td>1.000000</td>\n",
       "      <td>35.000000</td>\n",
       "      <td>39400.000000</td>\n",
       "      <td>1.000000</td>\n",
       "      <td>227.000000</td>\n",
       "      <td>0.000000</td>\n",
       "      <td>152.000000</td>\n",
       "    </tr>\n",
       "    <tr>\n",
       "      <th>max</th>\n",
       "      <td>381109.000000</td>\n",
       "      <td>85.000000</td>\n",
       "      <td>1.000000</td>\n",
       "      <td>52.000000</td>\n",
       "      <td>540165.000000</td>\n",
       "      <td>1.000000</td>\n",
       "      <td>299.000000</td>\n",
       "      <td>1.000000</td>\n",
       "      <td>163.000000</td>\n",
       "    </tr>\n",
       "  </tbody>\n",
       "</table>\n",
       "</div>"
      ],
      "text/plain": [
       "                  id            age  driving_license    region_code  \\\n",
       "count  381109.000000  381109.000000    381109.000000  381109.000000   \n",
       "mean   190555.000000      38.822584         0.997869      26.388807   \n",
       "std    110016.836208      15.511611         0.046110      13.229888   \n",
       "min         1.000000      20.000000         0.000000       0.000000   \n",
       "25%     95278.000000      25.000000         1.000000      15.000000   \n",
       "50%    190555.000000      36.000000         1.000000      28.000000   \n",
       "75%    285832.000000      49.000000         1.000000      35.000000   \n",
       "max    381109.000000      85.000000         1.000000      52.000000   \n",
       "\n",
       "       annual_premium  previously_insured        vintage       response  \\\n",
       "count   381109.000000       381109.000000  381109.000000  381109.000000   \n",
       "mean     30564.389581            0.458210     154.347397       0.122563   \n",
       "std      17213.155057            0.498251      83.671304       0.327936   \n",
       "min       2630.000000            0.000000      10.000000       0.000000   \n",
       "25%      24405.000000            0.000000      82.000000       0.000000   \n",
       "50%      31669.000000            0.000000     154.000000       0.000000   \n",
       "75%      39400.000000            1.000000     227.000000       0.000000   \n",
       "max     540165.000000            1.000000     299.000000       1.000000   \n",
       "\n",
       "       policy_sales_channel  \n",
       "count         381109.000000  \n",
       "mean             112.034295  \n",
       "std               54.203995  \n",
       "min                1.000000  \n",
       "25%               29.000000  \n",
       "50%              133.000000  \n",
       "75%              152.000000  \n",
       "max              163.000000  "
      ]
     },
     "execution_count": 4,
     "metadata": {},
     "output_type": "execute_result"
    }
   ],
   "source": [
    "#Describe the data\n",
    "\n",
    "df.describe()"
   ]
  },
  {
   "cell_type": "code",
   "execution_count": 5,
   "id": "ad993183",
   "metadata": {},
   "outputs": [
    {
     "data": {
      "text/plain": [
       "0"
      ]
     },
     "execution_count": 5,
     "metadata": {},
     "output_type": "execute_result"
    }
   ],
   "source": [
    "#Find the duplicates\n",
    "\n",
    "df.duplicated().sum()"
   ]
  },
  {
   "cell_type": "code",
   "execution_count": 6,
   "id": "f069a16b",
   "metadata": {},
   "outputs": [
    {
     "data": {
      "text/plain": [
       "id                      381109\n",
       "age                         66\n",
       "gender                       2\n",
       "driving_license              2\n",
       "region_code                 53\n",
       "annual_premium           48838\n",
       "previously_insured           2\n",
       "vehicle_age                  3\n",
       "vehicle_damage               2\n",
       "vintage                    290\n",
       "response                     2\n",
       "policy_sales_channel       155\n",
       "dtype: int64"
      ]
     },
     "execution_count": 6,
     "metadata": {},
     "output_type": "execute_result"
    }
   ],
   "source": [
    "# Number of unique values in each column.\n",
    "df.nunique()"
   ]
  },
  {
   "cell_type": "code",
   "execution_count": 7,
   "id": "a4969fe7",
   "metadata": {},
   "outputs": [
    {
     "data": {
      "text/plain": [
       "['gender', 'vehicle_age', 'vehicle_damage']"
      ]
     },
     "execution_count": 7,
     "metadata": {},
     "output_type": "execute_result"
    }
   ],
   "source": [
    "# Generate our categorical variable lists\n",
    "df_cat = df.dtypes[df.dtypes == 'object'].index.tolist()\n",
    "df_cat"
   ]
  },
  {
   "cell_type": "code",
   "execution_count": 8,
   "id": "4a612024",
   "metadata": {},
   "outputs": [
    {
     "name": "stdout",
     "output_type": "stream",
     "text": [
      "['Male' 'Female']\n",
      "['> 2 Years' '1-2 Year' '< 1 Year']\n",
      "['Yes' 'No']\n"
     ]
    }
   ],
   "source": [
    "# Unique values of Categorical Variables\n",
    "\n",
    "for col in df_cat:\n",
    "    print(df[col].unique())"
   ]
  },
  {
   "cell_type": "code",
   "execution_count": null,
   "id": "04f0e68a",
   "metadata": {},
   "outputs": [],
   "source": [
    "#Plot the unique values\n",
    "\n",
    "for col in df_cat:\n",
    "    sns.countplot(df[col].unique())"
   ]
  },
  {
   "cell_type": "code",
   "execution_count": 9,
   "id": "d36b3c67",
   "metadata": {},
   "outputs": [
    {
     "data": {
      "text/plain": [
       "id                      0\n",
       "age                     0\n",
       "gender                  0\n",
       "driving_license         0\n",
       "region_code             0\n",
       "annual_premium          0\n",
       "previously_insured      0\n",
       "vehicle_age             0\n",
       "vehicle_damage          0\n",
       "vintage                 0\n",
       "response                0\n",
       "policy_sales_channel    0\n",
       "dtype: int64"
      ]
     },
     "execution_count": 9,
     "metadata": {},
     "output_type": "execute_result"
    }
   ],
   "source": [
    "# Number of Null Values in each Column\n",
    "df.isna().sum()"
   ]
  },
  {
   "cell_type": "code",
   "execution_count": 10,
   "id": "9a665a3b",
   "metadata": {
    "scrolled": true
   },
   "outputs": [
    {
     "data": {
      "text/plain": [
       "id                       int64\n",
       "age                      int64\n",
       "gender                  object\n",
       "driving_license          int64\n",
       "region_code              int64\n",
       "annual_premium           int64\n",
       "previously_insured       int64\n",
       "vehicle_age             object\n",
       "vehicle_damage          object\n",
       "vintage                  int64\n",
       "response                 int64\n",
       "policy_sales_channel     int64\n",
       "dtype: object"
      ]
     },
     "execution_count": 10,
     "metadata": {},
     "output_type": "execute_result"
    }
   ],
   "source": [
    "#Datatypes\n",
    "\n",
    "df.dtypes"
   ]
  },
  {
   "cell_type": "code",
   "execution_count": 11,
   "id": "e4072f80",
   "metadata": {},
   "outputs": [
    {
     "data": {
      "text/plain": [
       "['id',\n",
       " 'age',\n",
       " 'driving_license',\n",
       " 'region_code',\n",
       " 'annual_premium',\n",
       " 'previously_insured',\n",
       " 'vintage',\n",
       " 'response',\n",
       " 'policy_sales_channel']"
      ]
     },
     "execution_count": 11,
     "metadata": {},
     "output_type": "execute_result"
    }
   ],
   "source": [
    "df_num = df.dtypes[df.dtypes == 'int64'].index.tolist()\n",
    "df_num"
   ]
  },
  {
   "cell_type": "code",
   "execution_count": 12,
   "id": "4644331b",
   "metadata": {},
   "outputs": [
    {
     "data": {
      "image/png": "[encoded data removed]",
      "text/plain": [
       "<Figure size 640x480 with 1 Axes>"
      ]
     },
     "metadata": {},
     "output_type": "display_data"
    }
   ],
   "source": [
    "for col in df_num:\n",
    "    df[[col]].boxplot()"
   ]
  },
  {
   "cell_type": "code",
   "execution_count": 13,
   "id": "0b04c8a0",
   "metadata": {},
   "outputs": [
    {
     "data": {
      "text/html": [
       "<div>\n",
       "<style scoped>\n",
       "    .dataframe tbody tr th:only-of-type {\n",
       "        vertical-align: middle;\n",
       "    }\n",
       "\n",
       "    .dataframe tbody tr th {\n",
       "        vertical-align: top;\n",
       "    }\n",
       "\n",
       "    .dataframe thead th {\n",
       "        text-align: right;\n",
       "    }\n",
       "</style>\n",
       "<table border=\"1\" class=\"dataframe\">\n",
       "  <thead>\n",
       "    <tr style=\"text-align: right;\">\n",
       "      <th></th>\n",
       "      <th>id</th>\n",
       "      <th>age</th>\n",
       "      <th>driving_license</th>\n",
       "      <th>region_code</th>\n",
       "      <th>annual_premium</th>\n",
       "      <th>previously_insured</th>\n",
       "      <th>vintage</th>\n",
       "      <th>response</th>\n",
       "      <th>policy_sales_channel</th>\n",
       "    </tr>\n",
       "  </thead>\n",
       "  <tbody>\n",
       "    <tr>\n",
       "      <th>id</th>\n",
       "      <td>1.000000</td>\n",
       "      <td>0.001561</td>\n",
       "      <td>-0.000564</td>\n",
       "      <td>-0.000572</td>\n",
       "      <td>0.003027</td>\n",
       "      <td>0.002457</td>\n",
       "      <td>-0.000630</td>\n",
       "      <td>-0.001368</td>\n",
       "      <td>-0.002837</td>\n",
       "    </tr>\n",
       "    <tr>\n",
       "      <th>age</th>\n",
       "      <td>0.001561</td>\n",
       "      <td>1.000000</td>\n",
       "      <td>-0.079782</td>\n",
       "      <td>0.042574</td>\n",
       "      <td>0.067507</td>\n",
       "      <td>-0.254682</td>\n",
       "      <td>-0.001264</td>\n",
       "      <td>0.111147</td>\n",
       "      <td>-0.577826</td>\n",
       "    </tr>\n",
       "    <tr>\n",
       "      <th>driving_license</th>\n",
       "      <td>-0.000564</td>\n",
       "      <td>-0.079782</td>\n",
       "      <td>1.000000</td>\n",
       "      <td>-0.001081</td>\n",
       "      <td>-0.011906</td>\n",
       "      <td>0.014969</td>\n",
       "      <td>-0.000848</td>\n",
       "      <td>0.010155</td>\n",
       "      <td>0.043731</td>\n",
       "    </tr>\n",
       "    <tr>\n",
       "      <th>region_code</th>\n",
       "      <td>-0.000572</td>\n",
       "      <td>0.042574</td>\n",
       "      <td>-0.001081</td>\n",
       "      <td>1.000000</td>\n",
       "      <td>-0.010588</td>\n",
       "      <td>-0.024659</td>\n",
       "      <td>-0.002750</td>\n",
       "      <td>0.010570</td>\n",
       "      <td>-0.042420</td>\n",
       "    </tr>\n",
       "    <tr>\n",
       "      <th>annual_premium</th>\n",
       "      <td>0.003027</td>\n",
       "      <td>0.067507</td>\n",
       "      <td>-0.011906</td>\n",
       "      <td>-0.010588</td>\n",
       "      <td>1.000000</td>\n",
       "      <td>0.004269</td>\n",
       "      <td>-0.000608</td>\n",
       "      <td>0.022575</td>\n",
       "      <td>-0.113247</td>\n",
       "    </tr>\n",
       "    <tr>\n",
       "      <th>previously_insured</th>\n",
       "      <td>0.002457</td>\n",
       "      <td>-0.254682</td>\n",
       "      <td>0.014969</td>\n",
       "      <td>-0.024659</td>\n",
       "      <td>0.004269</td>\n",
       "      <td>1.000000</td>\n",
       "      <td>0.002537</td>\n",
       "      <td>-0.341170</td>\n",
       "      <td>0.219381</td>\n",
       "    </tr>\n",
       "    <tr>\n",
       "      <th>vintage</th>\n",
       "      <td>-0.000630</td>\n",
       "      <td>-0.001264</td>\n",
       "      <td>-0.000848</td>\n",
       "      <td>-0.002750</td>\n",
       "      <td>-0.000608</td>\n",
       "      <td>0.002537</td>\n",
       "      <td>1.000000</td>\n",
       "      <td>-0.001050</td>\n",
       "      <td>0.000002</td>\n",
       "    </tr>\n",
       "    <tr>\n",
       "      <th>response</th>\n",
       "      <td>-0.001368</td>\n",
       "      <td>0.111147</td>\n",
       "      <td>0.010155</td>\n",
       "      <td>0.010570</td>\n",
       "      <td>0.022575</td>\n",
       "      <td>-0.341170</td>\n",
       "      <td>-0.001050</td>\n",
       "      <td>1.000000</td>\n",
       "      <td>-0.139042</td>\n",
       "    </tr>\n",
       "    <tr>\n",
       "      <th>policy_sales_channel</th>\n",
       "      <td>-0.002837</td>\n",
       "      <td>-0.577826</td>\n",
       "      <td>0.043731</td>\n",
       "      <td>-0.042420</td>\n",
       "      <td>-0.113247</td>\n",
       "      <td>0.219381</td>\n",
       "      <td>0.000002</td>\n",
       "      <td>-0.139042</td>\n",
       "      <td>1.000000</td>\n",
       "    </tr>\n",
       "  </tbody>\n",
       "</table>\n",
       "</div>"
      ],
      "text/plain": [
       "                            id       age  driving_license  region_code  \\\n",
       "id                    1.000000  0.001561        -0.000564    -0.000572   \n",
       "age                   0.001561  1.000000        -0.079782     0.042574   \n",
       "driving_license      -0.000564 -0.079782         1.000000    -0.001081   \n",
       "region_code          -0.000572  0.042574        -0.001081     1.000000   \n",
       "annual_premium        0.003027  0.067507        -0.011906    -0.010588   \n",
       "previously_insured    0.002457 -0.254682         0.014969    -0.024659   \n",
       "vintage              -0.000630 -0.001264        -0.000848    -0.002750   \n",
       "response             -0.001368  0.111147         0.010155     0.010570   \n",
       "policy_sales_channel -0.002837 -0.577826         0.043731    -0.042420   \n",
       "\n",
       "                      annual_premium  previously_insured   vintage  response  \\\n",
       "id                          0.003027            0.002457 -0.000630 -0.001368   \n",
       "age                         0.067507           -0.254682 -0.001264  0.111147   \n",
       "driving_license            -0.011906            0.014969 -0.000848  0.010155   \n",
       "region_code                -0.010588           -0.024659 -0.002750  0.010570   \n",
       "annual_premium              1.000000            0.004269 -0.000608  0.022575   \n",
       "previously_insured          0.004269            1.000000  0.002537 -0.341170   \n",
       "vintage                    -0.000608            0.002537  1.000000 -0.001050   \n",
       "response                    0.022575           -0.341170 -0.001050  1.000000   \n",
       "policy_sales_channel       -0.113247            0.219381  0.000002 -0.139042   \n",
       "\n",
       "                      policy_sales_channel  \n",
       "id                               -0.002837  \n",
       "age                              -0.577826  \n",
       "driving_license                   0.043731  \n",
       "region_code                      -0.042420  \n",
       "annual_premium                   -0.113247  \n",
       "previously_insured                0.219381  \n",
       "vintage                           0.000002  \n",
       "response                         -0.139042  \n",
       "policy_sales_channel              1.000000  "
      ]
     },
     "execution_count": 13,
     "metadata": {},
     "output_type": "execute_result"
    }
   ],
   "source": [
    "#Correlation \n",
    "\n",
    "df.corr()"
   ]
  },
  {
   "cell_type": "code",
   "execution_count": null,
   "id": "ca0ed96f",
   "metadata": {},
   "outputs": [],
   "source": []
  }
 ],
 "metadata": {
  "kernelspec": {
   "display_name": "mlenv",
   "language": "python",
   "name": "mlenv"
  },
  "language_info": {
   "codemirror_mode": {
    "name": "ipython",
    "version": 3
   },
   "file_extension": ".py",
   "mimetype": "text/x-python",
   "name": "python",
   "nbconvert_exporter": "python",
   "pygments_lexer": "ipython3",
   "version": "3.7.6"
  }
 },
 "nbformat": 4,
 "nbformat_minor": 5
}
